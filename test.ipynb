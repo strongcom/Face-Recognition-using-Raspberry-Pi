{
 "cells": [
  {
   "cell_type": "code",
   "execution_count": 1,
   "id": "70c4667d",
   "metadata": {
    "scrolled": true
   },
   "outputs": [
    {
     "name": "stdout",
     "output_type": "stream",
     "text": [
      "Fusing layers... \n",
      "/opt/anaconda3/envs/test2/lib/python3.8/site-packages/torch/nn/functional.py:718: UserWarning: Named tensors and all their associated APIs are an experimental feature and subject to change. Please do not use them for anything important until they are released as stable. (Triggered internally at  ../c10/core/TensorImpl.h:1156.)\n",
      "  return torch.max_pool2d(input, kernel_size, stride, padding, dilation, ceil_mode)\n",
      "Traceback (most recent call last):\n",
      "  File \"train.py\", line 213, in <module>\n",
      "    main(opt)\n",
      "  File \"train.py\", line 209, in main\n",
      "    training(**vars(opt))\n",
      "  File \"train.py\", line 139, in training\n",
      "    os.makedirs(person_face_path, exist_ok=True)\n",
      "  File \"/opt/anaconda3/envs/test2/lib/python3.8/os.py\", line 223, in makedirs\n",
      "    mkdir(name, mode)\n",
      "FileExistsError: [Errno 17] File exists: './dataset/face-datasets/.DS_Store'\n"
     ]
    }
   ],
   "source": [
    "!python3 train.py --is-add-user=True"
   ]
  },
  {
   "cell_type": "code",
   "execution_count": 2,
   "id": "0b28fffb",
   "metadata": {},
   "outputs": [],
   "source": [
    "!find . -name \"*.DS_Store\" -type f -delete"
   ]
  },
  {
   "cell_type": "code",
   "execution_count": 7,
   "id": "be77c789",
   "metadata": {
    "scrolled": true
   },
   "outputs": [
    {
     "name": "stdout",
     "output_type": "stream",
     "text": [
      "Traceback (most recent call last):\r\n",
      "  File \"recognize.py\", line 16, in <module>\r\n",
      "    from models.experimental import attempt_load\r\n",
      "ModuleNotFoundError: No module named 'models'\r\n"
     ]
    }
   ],
   "source": [
    "!python3 recognize.py"
   ]
  },
  {
   "cell_type": "code",
   "execution_count": 8,
   "id": "5266267e",
   "metadata": {},
   "outputs": [
    {
     "name": "stdout",
     "output_type": "stream",
     "text": [
      "Collecting models\n",
      "  Downloading models-0.9.3.tar.gz (16 kB)\n",
      "  Preparing metadata (setup.py) ... \u001b[?25lerror\n",
      "  \u001b[1;31merror\u001b[0m: \u001b[1msubprocess-exited-with-error\u001b[0m\n",
      "  \n",
      "  \u001b[31m×\u001b[0m \u001b[32mpython setup.py egg_info\u001b[0m did not run successfully.\n",
      "  \u001b[31m│\u001b[0m exit code: \u001b[1;36m1\u001b[0m\n",
      "  \u001b[31m╰─>\u001b[0m \u001b[31m[8 lines of output]\u001b[0m\n",
      "  \u001b[31m   \u001b[0m Traceback (most recent call last):\n",
      "  \u001b[31m   \u001b[0m   File \"<string>\", line 2, in <module>\n",
      "  \u001b[31m   \u001b[0m   File \"<pip-setuptools-caller>\", line 34, in <module>\n",
      "  \u001b[31m   \u001b[0m   File \"/private/var/folders/2j/cqy7xckd7k96yhfmt4m8fk9r0000gn/T/pip-install-d5bcdsru/models_ba114ea18a094f8b99302a59f2cd315d/setup.py\", line 25, in <module>\n",
      "  \u001b[31m   \u001b[0m     import models\n",
      "  \u001b[31m   \u001b[0m   File \"/private/var/folders/2j/cqy7xckd7k96yhfmt4m8fk9r0000gn/T/pip-install-d5bcdsru/models_ba114ea18a094f8b99302a59f2cd315d/models/__init__.py\", line 23, in <module>\n",
      "  \u001b[31m   \u001b[0m     from base import *\n",
      "  \u001b[31m   \u001b[0m ModuleNotFoundError: No module named 'base'\n",
      "  \u001b[31m   \u001b[0m \u001b[31m[end of output]\u001b[0m\n",
      "  \n",
      "  \u001b[1;35mnote\u001b[0m: This error originates from a subprocess, and is likely not a problem with pip.\n",
      "\u001b[1;31merror\u001b[0m: \u001b[1mmetadata-generation-failed\u001b[0m\n",
      "\n",
      "\u001b[31m×\u001b[0m Encountered error while generating package metadata.\n",
      "\u001b[31m╰─>\u001b[0m See above for output.\n",
      "\n",
      "\u001b[1;35mnote\u001b[0m: This is an issue with the package mentioned above, not pip.\n",
      "\u001b[1;36mhint\u001b[0m: See above for details.\n",
      "\u001b[?25h"
     ]
    }
   ],
   "source": [
    "!pip3 install models."
   ]
  },
  {
   "cell_type": "code",
   "execution_count": null,
   "id": "a3378722",
   "metadata": {},
   "outputs": [],
   "source": []
  },
  {
   "cell_type": "code",
   "execution_count": null,
   "id": "92fd9366",
   "metadata": {},
   "outputs": [],
   "source": []
  }
 ],
 "metadata": {
  "kernelspec": {
   "display_name": "Python 3 (ipykernel)",
   "language": "python",
   "name": "python3"
  },
  "language_info": {
   "codemirror_mode": {
    "name": "ipython",
    "version": 3
   },
   "file_extension": ".py",
   "mimetype": "text/x-python",
   "name": "python",
   "nbconvert_exporter": "python",
   "pygments_lexer": "ipython3",
   "version": "3.8.16"
  }
 },
 "nbformat": 4,
 "nbformat_minor": 5
}
