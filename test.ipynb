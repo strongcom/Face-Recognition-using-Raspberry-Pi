{
 "cells": [
  {
   "cell_type": "code",
   "execution_count": 19,
   "id": "219775ec",
   "metadata": {
    "scrolled": true
   },
   "outputs": [
    {
     "name": "stdout",
     "output_type": "stream",
     "text": [
      "Requirement already satisfied: torchvision==0.10.0 in /opt/anaconda3/envs/test2/lib/python3.8/site-packages (0.10.0)\n",
      "Requirement already satisfied: numpy in /opt/anaconda3/envs/test2/lib/python3.8/site-packages (from torchvision==0.10.0) (1.24.2)\n",
      "Requirement already satisfied: pillow>=5.3.0 in /opt/anaconda3/envs/test2/lib/python3.8/site-packages (from torchvision==0.10.0) (8.0.1)\n",
      "Requirement already satisfied: torch in /opt/anaconda3/envs/test2/lib/python3.8/site-packages (from torchvision==0.10.0) (1.13.1)\n",
      "Requirement already satisfied: typing-extensions in /opt/anaconda3/envs/test2/lib/python3.8/site-packages (from torch->torchvision==0.10.0) (4.5.0)\n",
      "Collecting torch==1.9.0\n",
      "  Downloading torch-1.9.0-cp38-none-macosx_11_0_arm64.whl (41.5 MB)\n",
      "\u001b[2K     \u001b[38;2;114;156;31m━━━━━━━━━━━━━━━━━━━━━━━━━━━━━━━━━━━━━━━━\u001b[0m \u001b[32m41.5/41.5 MB\u001b[0m \u001b[31m9.9 MB/s\u001b[0m eta \u001b[36m0:00:00\u001b[0m0m eta \u001b[36m0:00:01\u001b[0m[36m0:00:01\u001b[0m\n",
      "\u001b[?25hRequirement already satisfied: typing-extensions in /opt/anaconda3/envs/test2/lib/python3.8/site-packages (from torch==1.9.0) (4.5.0)\n",
      "Installing collected packages: torch\n",
      "  Attempting uninstall: torch\n",
      "    Found existing installation: torch 1.13.1\n",
      "    Uninstalling torch-1.13.1:\n",
      "      Successfully uninstalled torch-1.13.1\n",
      "Successfully installed torch-1.9.0\n"
     ]
    }
   ],
   "source": [
    "!pip install torchvision==0.10.0\n",
    "!pip install torch==1.9.0"
   ]
  },
  {
   "cell_type": "code",
   "execution_count": null,
   "id": "0f3aa7a4",
   "metadata": {},
   "outputs": [],
   "source": []
  },
  {
   "cell_type": "code",
   "execution_count": 5,
   "id": "18efec1d",
   "metadata": {},
   "outputs": [],
   "source": [
    "!find . -name \"*.DS_Store\" -type f -delete"
   ]
  },
  {
   "cell_type": "code",
   "execution_count": 7,
   "id": "70c4667d",
   "metadata": {
    "scrolled": true
   },
   "outputs": [
    {
     "name": "stdout",
     "output_type": "stream",
     "text": [
      "Fusing layers... \n",
      "/opt/anaconda3/envs/test2/lib/python3.8/site-packages/torch/nn/functional.py:718: UserWarning: Named tensors and all their associated APIs are an experimental feature and subject to change. Please do not use them for anything important until they are released as stable. (Triggered internally at  ../c10/core/TensorImpl.h:1156.)\n",
      "  return torch.max_pool2d(input, kernel_size, stride, padding, dilation, ceil_mode)\n",
      "Update feature!\n"
     ]
    }
   ],
   "source": [
    "!python3 train.py --is-add-user=True"
   ]
  },
  {
   "cell_type": "code",
   "execution_count": 17,
   "id": "be77c789",
   "metadata": {
    "scrolled": true
   },
   "outputs": [
    {
     "name": "stdout",
     "output_type": "stream",
     "text": [
      "Fusing layers... \n",
      "/opt/anaconda3/envs/test2/lib/python3.8/site-packages/torch/nn/functional.py:718: UserWarning: Named tensors and all their associated APIs are an experimental feature and subject to change. Please do not use them for anything important until they are released as stable. (Triggered internally at  ../c10/core/TensorImpl.h:1156.)\n",
      "  return torch.max_pool2d(input, kernel_size, stride, padding, dilation, ceil_mode)\n",
      "successful\n",
      "successful\n",
      "successful\n",
      "successful\n",
      "successful\n",
      "successful\n",
      "successful\n",
      "successful\n",
      "successful\n",
      "successful\n",
      "successful\n",
      "successful\n",
      "successful\n",
      "successful\n",
      "successful\n",
      "successful\n",
      "successful\n",
      "successful\n",
      "successful\n",
      "successful\n",
      "successful\n",
      "successful\n",
      "successful\n",
      "successful\n",
      "successful\n",
      "successful\n",
      "^C\n"
     ]
    }
   ],
   "source": [
    "!python3 recognize.py"
   ]
  },
  {
   "cell_type": "code",
   "execution_count": null,
   "id": "5266267e",
   "metadata": {},
   "outputs": [],
   "source": []
  },
  {
   "cell_type": "code",
   "execution_count": 3,
   "id": "cc884271",
   "metadata": {},
   "outputs": [
    {
     "name": "stdout",
     "output_type": "stream",
     "text": [
      "Fusing layers... \n",
      "/opt/anaconda3/envs/test2/lib/python3.8/site-packages/torch/nn/functional.py:718: UserWarning: Named tensors and all their associated APIs are an experimental feature and subject to change. Please do not use them for anything important until they are released as stable. (Triggered internally at  ../c10/core/TensorImpl.h:1156.)\n",
      "  return torch.max_pool2d(input, kernel_size, stride, padding, dilation, ceil_mode)\n",
      "Traceback (most recent call last):\n",
      "  File \"train.py\", line 213, in <module>\n",
      "    main(opt)\n",
      "  File \"train.py\", line 209, in main\n",
      "    training(**vars(opt))\n",
      "  File \"train.py\", line 183, in training\n",
      "    images_emb = np.vstack((old_images_emb, images_emb))\n",
      "  File \"<__array_function__ internals>\", line 200, in vstack\n",
      "  File \"/opt/anaconda3/envs/test2/lib/python3.8/site-packages/numpy/core/shape_base.py\", line 296, in vstack\n",
      "    return _nx.concatenate(arrs, 0, dtype=dtype, casting=casting)\n",
      "  File \"<__array_function__ internals>\", line 200, in concatenate\n",
      "ValueError: all the input array dimensions except for the concatenation axis must match exactly, but along dimension 1, the array at index 0 has size 512 and the array at index 1 has size 0\n"
     ]
    }
   ],
   "source": [
    "!python3 train.py --is-add-user=True"
   ]
  },
  {
   "cell_type": "code",
   "execution_count": null,
   "id": "c6ed205e",
   "metadata": {
    "scrolled": true
   },
   "outputs": [
    {
     "name": "stdout",
     "output_type": "stream",
     "text": [
      "Fusing layers... \n",
      "/opt/anaconda3/envs/test2/lib/python3.8/site-packages/torch/nn/functional.py:718: UserWarning: Named tensors and all their associated APIs are an experimental feature and subject to change. Please do not use them for anything important until they are released as stable. (Triggered internally at  ../c10/core/TensorImpl.h:1156.)\n",
      "  return torch.max_pool2d(input, kernel_size, stride, padding, dilation, ceil_mode)\n",
      "Exception in thread Thread-1:\n",
      "Traceback (most recent call last):\n",
      "  File \"/opt/anaconda3/envs/test2/lib/python3.8/threading.py\", line 932, in _bootstrap_inner\n",
      "    self.run()\n",
      "  File \"/opt/anaconda3/envs/test2/lib/python3.8/threading.py\", line 870, in run\n",
      "    self._target(*self._args, **self._kwargs)\n",
      "  File \"recognize.py\", line 154, in recognition\n",
      "    images_names, images_embs = read_features()   \n",
      "  File \"recognize.py\", line 141, in read_features\n",
      "    data = np.load(root_fearure_path, allow_pickle=True)\n",
      "  File \"/opt/anaconda3/envs/test2/lib/python3.8/site-packages/numpy/lib/npyio.py\", line 405, in load\n",
      "    fid = stack.enter_context(open(os_fspath(file), \"rb\"))\n",
      "FileNotFoundError: [Errno 2] No such file or directory: 'static/feature/face_features.npz'\n"
     ]
    }
   ],
   "source": [
    "!python3 recognize.py"
   ]
  },
  {
   "cell_type": "code",
   "execution_count": null,
   "id": "267d9768",
   "metadata": {},
   "outputs": [],
   "source": []
  },
  {
   "cell_type": "code",
   "execution_count": 32,
   "id": "6bc3c252",
   "metadata": {
    "scrolled": true
   },
   "outputs": [
    {
     "name": "stdout",
     "output_type": "stream",
     "text": [
      "Fusing layers... \n",
      "/opt/anaconda3/envs/test2/lib/python3.8/site-packages/torch/nn/functional.py:718: UserWarning: Named tensors and all their associated APIs are an experimental feature and subject to change. Please do not use them for anything important until they are released as stable. (Triggered internally at  ../c10/core/TensorImpl.h:1156.)\n",
      "  return torch.max_pool2d(input, kernel_size, stride, padding, dilation, ceil_mode)\n",
      "Traceback (most recent call last):\n",
      "  File \"train.py\", line 212, in <module>\n",
      "    main(opt)\n",
      "  File \"train.py\", line 208, in main\n",
      "    training(**vars(opt))\n",
      "  File \"train.py\", line 182, in training\n",
      "    images_emb = np.vstack((old_images_emb, images_emb))\n",
      "  File \"<__array_function__ internals>\", line 200, in vstack\n",
      "  File \"/opt/anaconda3/envs/test2/lib/python3.8/site-packages/numpy/core/shape_base.py\", line 296, in vstack\n",
      "    return _nx.concatenate(arrs, 0, dtype=dtype, casting=casting)\n",
      "  File \"<__array_function__ internals>\", line 200, in concatenate\n",
      "ValueError: all the input array dimensions except for the concatenation axis must match exactly, but along dimension 1, the array at index 0 has size 512 and the array at index 1 has size 0\n"
     ]
    }
   ],
   "source": [
    "!python3 train.py"
   ]
  },
  {
   "cell_type": "code",
   "execution_count": 31,
   "id": "d88d6937",
   "metadata": {},
   "outputs": [
    {
     "name": "stdout",
     "output_type": "stream",
     "text": [
      "Fusing layers... \n",
      "/opt/anaconda3/envs/test2/lib/python3.8/site-packages/torch/nn/functional.py:718: UserWarning: Named tensors and all their associated APIs are an experimental feature and subject to change. Please do not use them for anything important until they are released as stable. (Triggered internally at  ../c10/core/TensorImpl.h:1156.)\n",
      "  return torch.max_pool2d(input, kernel_size, stride, padding, dilation, ceil_mode)\n",
      "^C\n"
     ]
    }
   ],
   "source": [
    "!python3 recognize.py"
   ]
  },
  {
   "cell_type": "code",
   "execution_count": null,
   "id": "128b814c",
   "metadata": {},
   "outputs": [],
   "source": []
  },
  {
   "cell_type": "code",
   "execution_count": 23,
   "id": "1ec5227e",
   "metadata": {},
   "outputs": [
    {
     "name": "stdout",
     "output_type": "stream",
     "text": [
      "Requirement already satisfied: matplotlib>=3.2.2 in /opt/anaconda3/envs/test2/lib/python3.8/site-packages (from -r requirements.txt (line 4)) (3.7.0)\n",
      "Requirement already satisfied: numpy>=1.18.5 in /opt/anaconda3/envs/test2/lib/python3.8/site-packages (from -r requirements.txt (line 5)) (1.24.2)\n",
      "Requirement already satisfied: opencv-python>=4.1.2 in /opt/anaconda3/envs/test2/lib/python3.8/site-packages (from -r requirements.txt (line 6)) (4.7.0.68)\n",
      "Requirement already satisfied: Pillow>=7.1.2 in /opt/anaconda3/envs/test2/lib/python3.8/site-packages (from -r requirements.txt (line 7)) (8.0.1)\n",
      "Requirement already satisfied: PyYAML>=5.3.1 in /opt/anaconda3/envs/test2/lib/python3.8/site-packages (from -r requirements.txt (line 8)) (6.0)\n",
      "Requirement already satisfied: requests>=2.23.0 in /opt/anaconda3/envs/test2/lib/python3.8/site-packages (from -r requirements.txt (line 9)) (2.24.0)\n",
      "Requirement already satisfied: scipy>=1.4.1 in /opt/anaconda3/envs/test2/lib/python3.8/site-packages (from -r requirements.txt (line 10)) (1.10.1)\n",
      "Requirement already satisfied: torch>=1.7.0 in /opt/anaconda3/envs/test2/lib/python3.8/site-packages (from -r requirements.txt (line 11)) (1.13.1)\n",
      "Requirement already satisfied: torchvision>=0.8.1 in /opt/anaconda3/envs/test2/lib/python3.8/site-packages (from -r requirements.txt (line 12)) (0.14.1)\n",
      "Requirement already satisfied: tqdm>=4.41.0 in /opt/anaconda3/envs/test2/lib/python3.8/site-packages (from -r requirements.txt (line 13)) (4.64.1)\n",
      "Requirement already satisfied: tensorboard>=2.4.1 in /opt/anaconda3/envs/test2/lib/python3.8/site-packages (from -r requirements.txt (line 16)) (2.12.0)\n",
      "Requirement already satisfied: pandas>=1.1.4 in /opt/anaconda3/envs/test2/lib/python3.8/site-packages (from -r requirements.txt (line 20)) (1.5.3)\n",
      "Requirement already satisfied: seaborn>=0.11.0 in /opt/anaconda3/envs/test2/lib/python3.8/site-packages (from -r requirements.txt (line 21)) (0.12.2)\n",
      "Requirement already satisfied: thop in /opt/anaconda3/envs/test2/lib/python3.8/site-packages (from -r requirements.txt (line 37)) (0.1.1.post2209072238)\n",
      "Requirement already satisfied: importlib-resources>=3.2.0 in /opt/anaconda3/envs/test2/lib/python3.8/site-packages (from matplotlib>=3.2.2->-r requirements.txt (line 4)) (5.12.0)\n",
      "Requirement already satisfied: packaging>=20.0 in /opt/anaconda3/envs/test2/lib/python3.8/site-packages (from matplotlib>=3.2.2->-r requirements.txt (line 4)) (23.0)\n",
      "Requirement already satisfied: pyparsing>=2.3.1 in /opt/anaconda3/envs/test2/lib/python3.8/site-packages (from matplotlib>=3.2.2->-r requirements.txt (line 4)) (3.0.9)\n",
      "Requirement already satisfied: python-dateutil>=2.7 in /opt/anaconda3/envs/test2/lib/python3.8/site-packages (from matplotlib>=3.2.2->-r requirements.txt (line 4)) (2.8.2)\n",
      "Requirement already satisfied: kiwisolver>=1.0.1 in /opt/anaconda3/envs/test2/lib/python3.8/site-packages (from matplotlib>=3.2.2->-r requirements.txt (line 4)) (1.4.4)\n",
      "Requirement already satisfied: fonttools>=4.22.0 in /opt/anaconda3/envs/test2/lib/python3.8/site-packages (from matplotlib>=3.2.2->-r requirements.txt (line 4)) (4.38.0)\n",
      "Requirement already satisfied: contourpy>=1.0.1 in /opt/anaconda3/envs/test2/lib/python3.8/site-packages (from matplotlib>=3.2.2->-r requirements.txt (line 4)) (1.0.7)\n",
      "Requirement already satisfied: cycler>=0.10 in /opt/anaconda3/envs/test2/lib/python3.8/site-packages (from matplotlib>=3.2.2->-r requirements.txt (line 4)) (0.11.0)\n",
      "Requirement already satisfied: idna<3,>=2.5 in /opt/anaconda3/envs/test2/lib/python3.8/site-packages (from requests>=2.23.0->-r requirements.txt (line 9)) (2.10)\n",
      "Requirement already satisfied: urllib3!=1.25.0,!=1.25.1,<1.26,>=1.21.1 in /opt/anaconda3/envs/test2/lib/python3.8/site-packages (from requests>=2.23.0->-r requirements.txt (line 9)) (1.25.11)\n",
      "Requirement already satisfied: certifi>=2017.4.17 in /opt/anaconda3/envs/test2/lib/python3.8/site-packages (from requests>=2.23.0->-r requirements.txt (line 9)) (2020.6.20)\n",
      "Requirement already satisfied: chardet<4,>=3.0.2 in /opt/anaconda3/envs/test2/lib/python3.8/site-packages (from requests>=2.23.0->-r requirements.txt (line 9)) (3.0.4)\n",
      "Requirement already satisfied: typing-extensions in /opt/anaconda3/envs/test2/lib/python3.8/site-packages (from torch>=1.7.0->-r requirements.txt (line 11)) (4.5.0)\n",
      "Requirement already satisfied: google-auth-oauthlib<0.5,>=0.4.1 in /opt/anaconda3/envs/test2/lib/python3.8/site-packages (from tensorboard>=2.4.1->-r requirements.txt (line 16)) (0.4.6)\n",
      "Requirement already satisfied: google-auth<3,>=1.6.3 in /opt/anaconda3/envs/test2/lib/python3.8/site-packages (from tensorboard>=2.4.1->-r requirements.txt (line 16)) (2.16.1)\n",
      "Requirement already satisfied: wheel>=0.26 in /opt/anaconda3/envs/test2/lib/python3.8/site-packages (from tensorboard>=2.4.1->-r requirements.txt (line 16)) (0.38.4)\n",
      "Requirement already satisfied: absl-py>=0.4 in /opt/anaconda3/envs/test2/lib/python3.8/site-packages (from tensorboard>=2.4.1->-r requirements.txt (line 16)) (1.4.0)\n",
      "Requirement already satisfied: werkzeug>=1.0.1 in /opt/anaconda3/envs/test2/lib/python3.8/site-packages (from tensorboard>=2.4.1->-r requirements.txt (line 16)) (2.2.3)\n",
      "Requirement already satisfied: grpcio>=1.48.2 in /opt/anaconda3/envs/test2/lib/python3.8/site-packages (from tensorboard>=2.4.1->-r requirements.txt (line 16)) (1.51.3)\n",
      "Requirement already satisfied: setuptools>=41.0.0 in /opt/anaconda3/envs/test2/lib/python3.8/site-packages (from tensorboard>=2.4.1->-r requirements.txt (line 16)) (65.6.3)\n",
      "Requirement already satisfied: tensorboard-data-server<0.8.0,>=0.7.0 in /opt/anaconda3/envs/test2/lib/python3.8/site-packages (from tensorboard>=2.4.1->-r requirements.txt (line 16)) (0.7.0)\n",
      "Requirement already satisfied: markdown>=2.6.8 in /opt/anaconda3/envs/test2/lib/python3.8/site-packages (from tensorboard>=2.4.1->-r requirements.txt (line 16)) (3.4.1)\n",
      "Requirement already satisfied: protobuf>=3.19.6 in /opt/anaconda3/envs/test2/lib/python3.8/site-packages (from tensorboard>=2.4.1->-r requirements.txt (line 16)) (4.22.0)\n",
      "Requirement already satisfied: tensorboard-plugin-wit>=1.6.0 in /opt/anaconda3/envs/test2/lib/python3.8/site-packages (from tensorboard>=2.4.1->-r requirements.txt (line 16)) (1.8.1)\n",
      "Requirement already satisfied: pytz>=2020.1 in /opt/anaconda3/envs/test2/lib/python3.8/site-packages (from pandas>=1.1.4->-r requirements.txt (line 20)) (2022.7.1)\n",
      "Requirement already satisfied: rsa<5,>=3.1.4 in /opt/anaconda3/envs/test2/lib/python3.8/site-packages (from google-auth<3,>=1.6.3->tensorboard>=2.4.1->-r requirements.txt (line 16)) (4.9)\n",
      "Requirement already satisfied: pyasn1-modules>=0.2.1 in /opt/anaconda3/envs/test2/lib/python3.8/site-packages (from google-auth<3,>=1.6.3->tensorboard>=2.4.1->-r requirements.txt (line 16)) (0.2.8)\n",
      "Requirement already satisfied: cachetools<6.0,>=2.0.0 in /opt/anaconda3/envs/test2/lib/python3.8/site-packages (from google-auth<3,>=1.6.3->tensorboard>=2.4.1->-r requirements.txt (line 16)) (5.3.0)\n",
      "Requirement already satisfied: six>=1.9.0 in /opt/anaconda3/envs/test2/lib/python3.8/site-packages (from google-auth<3,>=1.6.3->tensorboard>=2.4.1->-r requirements.txt (line 16)) (1.16.0)\n",
      "Requirement already satisfied: requests-oauthlib>=0.7.0 in /opt/anaconda3/envs/test2/lib/python3.8/site-packages (from google-auth-oauthlib<0.5,>=0.4.1->tensorboard>=2.4.1->-r requirements.txt (line 16)) (1.3.1)\n",
      "Requirement already satisfied: zipp>=3.1.0 in /opt/anaconda3/envs/test2/lib/python3.8/site-packages (from importlib-resources>=3.2.0->matplotlib>=3.2.2->-r requirements.txt (line 4)) (3.14.0)\n",
      "Requirement already satisfied: importlib-metadata>=4.4 in /opt/anaconda3/envs/test2/lib/python3.8/site-packages (from markdown>=2.6.8->tensorboard>=2.4.1->-r requirements.txt (line 16)) (6.0.0)\n",
      "Requirement already satisfied: MarkupSafe>=2.1.1 in /opt/anaconda3/envs/test2/lib/python3.8/site-packages (from werkzeug>=1.0.1->tensorboard>=2.4.1->-r requirements.txt (line 16)) (2.1.2)\n",
      "Requirement already satisfied: pyasn1<0.5.0,>=0.4.6 in /opt/anaconda3/envs/test2/lib/python3.8/site-packages (from pyasn1-modules>=0.2.1->google-auth<3,>=1.6.3->tensorboard>=2.4.1->-r requirements.txt (line 16)) (0.4.8)\n",
      "Requirement already satisfied: oauthlib>=3.0.0 in /opt/anaconda3/envs/test2/lib/python3.8/site-packages (from requests-oauthlib>=0.7.0->google-auth-oauthlib<0.5,>=0.4.1->tensorboard>=2.4.1->-r requirements.txt (line 16)) (3.2.2)\n"
     ]
    }
   ],
   "source": [
    "!pip install -r requirements.txt"
   ]
  },
  {
   "cell_type": "code",
   "execution_count": null,
   "id": "a3378722",
   "metadata": {},
   "outputs": [],
   "source": []
  },
  {
   "cell_type": "code",
   "execution_count": null,
   "id": "92fd9366",
   "metadata": {},
   "outputs": [],
   "source": []
  }
 ],
 "metadata": {
  "kernelspec": {
   "display_name": "Python 3 (ipykernel)",
   "language": "python",
   "name": "python3"
  },
  "language_info": {
   "codemirror_mode": {
    "name": "ipython",
    "version": 3
   },
   "file_extension": ".py",
   "mimetype": "text/x-python",
   "name": "python",
   "nbconvert_exporter": "python",
   "pygments_lexer": "ipython3",
   "version": "3.11.1"
  }
 },
 "nbformat": 4,
 "nbformat_minor": 5
}
